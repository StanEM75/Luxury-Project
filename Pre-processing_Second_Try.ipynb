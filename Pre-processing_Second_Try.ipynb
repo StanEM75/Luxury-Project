{
 "cells": [
  {
   "cell_type": "markdown",
   "id": "c9475597-2476-44cb-981a-52ec811beb45",
   "metadata": {},
   "source": [
    "## Imports"
   ]
  },
  {
   "cell_type": "code",
   "execution_count": 250,
   "id": "3b283fd6-661f-49cd-a766-cd9346196c3e",
   "metadata": {},
   "outputs": [],
   "source": [
    "import pandas as pd\n",
    "import seaborn as sns\n",
    "import matplotlib.pyplot as plt\n",
    "import numpy as np\n",
    "from sklearn.preprocessing import StandardScaler\n",
    "from sklearn.preprocessing import LabelEncoder\n",
    "from sklearn.model_selection import train_test_split\n",
    "from sklearn.linear_model import LinearRegression\n",
    "from sklearn.metrics import mean_squared_error, r2_score\n",
    "from sklearn.feature_selection import RFE\n",
    "from sklearn.model_selection import GridSearchCV\n",
    "import matplotlib.pyplot as plt\n",
    "from sklearn.preprocessing import StandardScaler, LabelEncoder\n",
    "from sklearn.model_selection import train_test_split\n",
    "from sklearn.linear_model import LogisticRegression\n",
    "from sklearn.metrics import accuracy_score, precision_score, recall_score,balanced_accuracy_score\n",
    "from sklearn.metrics import mean_squared_error,r2_score\n",
    "from sklearn.metrics import confusion_matrix\n",
    "import xgboost as xgb\n",
    "from imblearn.under_sampling import RandomUnderSampler\n",
    "from imblearn.over_sampling import SMOTE\n",
    "from sklearn.metrics import classification_report\n",
    "from imblearn.ensemble import BalancedRandomForestClassifier\n",
    "import requests\n",
    "from bs4 import BeautifulSoup\n",
    "from sklearn.ensemble import RandomForestClassifier\n",
    "from sklearn.model_selection import RandomizedSearchCV\n",
    "import dask.dataframe as dd"
   ]
  },
  {
   "cell_type": "code",
   "execution_count": 251,
   "id": "db639489-574b-4310-891c-501d89265d2a",
   "metadata": {},
   "outputs": [],
   "source": [
    "pd.set_option('display.max_rows', None)"
   ]
  },
  {
   "cell_type": "code",
   "execution_count": 252,
   "id": "cd250cfc-0cb2-4e28-8cee-b054d2966dbc",
   "metadata": {},
   "outputs": [
    {
     "name": "stderr",
     "output_type": "stream",
     "text": [
      "/var/folders/5q/f280wjd15s56_y9s5ntbx3rw0000gn/T/ipykernel_53983/3990443208.py:1: DtypeWarning: Columns (13) have mixed types. Specify dtype option on import or set low_memory=False.\n",
      "  df=pd.read_csv('Watches.csv')\n"
     ]
    }
   ],
   "source": [
    "df=pd.read_csv('Watches.csv')"
   ]
  },
  {
   "cell_type": "code",
   "execution_count": 253,
   "id": "5c77e557-0c3c-4dd9-8da6-d8c3d81519fc",
   "metadata": {},
   "outputs": [],
   "source": [
    "df.drop(columns=\"Unnamed: 0\", inplace=True)"
   ]
  },
  {
   "cell_type": "markdown",
   "id": "92f77115-e24b-497b-a9f5-18ad7cfd8006",
   "metadata": {},
   "source": [
    "## Dataset Information"
   ]
  },
  {
   "cell_type": "markdown",
   "id": "00cfabc9-3438-4531-8e0a-d1d97f19a7d5",
   "metadata": {},
   "source": [
    "### Columns types"
   ]
  },
  {
   "cell_type": "code",
   "execution_count": 254,
   "id": "b5b7018e-6da6-457f-abd5-56a7d26c6bb2",
   "metadata": {},
   "outputs": [
    {
     "name": "stdout",
     "output_type": "stream",
     "text": [
      "<class 'pandas.core.frame.DataFrame'>\n",
      "RangeIndex: 284491 entries, 0 to 284490\n",
      "Data columns (total 13 columns):\n",
      " #   Column     Non-Null Count   Dtype \n",
      "---  ------     --------------   ----- \n",
      " 0   name       211906 non-null  object\n",
      " 1   price      284085 non-null  object\n",
      " 2   brand      284360 non-null  object\n",
      " 3   model      254025 non-null  object\n",
      " 4   ref        241339 non-null  object\n",
      " 5   mvmt       87806 non-null   object\n",
      " 6   casem      120220 non-null  object\n",
      " 7   bracem     109595 non-null  object\n",
      " 8   yop        284357 non-null  object\n",
      " 9   cond       208504 non-null  object\n",
      " 10  sex        188686 non-null  object\n",
      " 11  size       260894 non-null  object\n",
      " 12  condition  71569 non-null   object\n",
      "dtypes: object(13)\n",
      "memory usage: 28.2+ MB\n"
     ]
    }
   ],
   "source": [
    "df.info()"
   ]
  },
  {
   "cell_type": "markdown",
   "id": "e2db915d-1543-49d8-a95d-a2bb888699d3",
   "metadata": {},
   "source": [
    "All the columns have an object format. We will need to modify it."
   ]
  },
  {
   "cell_type": "markdown",
   "id": "d83f3f9a-699c-4823-a0da-eefec6c78f2f",
   "metadata": {},
   "source": [
    "### NaN"
   ]
  },
  {
   "cell_type": "code",
   "execution_count": 255,
   "id": "1276ae15-8edf-4dfe-bca1-8bf0e7eca274",
   "metadata": {},
   "outputs": [
    {
     "data": {
      "text/plain": [
       "name          72585\n",
       "price           406\n",
       "brand           131\n",
       "model         30466\n",
       "ref           43152\n",
       "mvmt         196685\n",
       "casem        164271\n",
       "bracem       174896\n",
       "yop             134\n",
       "cond          75987\n",
       "sex           95805\n",
       "size          23597\n",
       "condition    212922\n",
       "dtype: int64"
      ]
     },
     "execution_count": 255,
     "metadata": {},
     "output_type": "execute_result"
    }
   ],
   "source": [
    "df.isna().sum()"
   ]
  },
  {
   "cell_type": "markdown",
   "id": "a521663d-5bf1-49a0-9291-724c45cad028",
   "metadata": {},
   "source": [
    "All the columns contain NaN. We will deal with it later"
   ]
  },
  {
   "cell_type": "markdown",
   "id": "f655addb-9ec4-4db6-8403-7dcbf48aa387",
   "metadata": {},
   "source": [
    "## Reordering columns"
   ]
  },
  {
   "cell_type": "markdown",
   "id": "3e482a76-1fba-497e-9a42-396cb1460645",
   "metadata": {},
   "source": [
    "### Drop duplicates"
   ]
  },
  {
   "cell_type": "code",
   "execution_count": 256,
   "id": "4c3de256-96ec-4271-be3d-770890c15b64",
   "metadata": {},
   "outputs": [],
   "source": [
    "df = df.drop_duplicates()"
   ]
  },
  {
   "cell_type": "markdown",
   "id": "650084f1-5d45-441b-b7a6-773ecb3cd007",
   "metadata": {},
   "source": [
    "## Deal with special values"
   ]
  },
  {
   "cell_type": "markdown",
   "id": "379022c5-6857-4234-97d0-feac2696cd88",
   "metadata": {},
   "source": [
    "### In model column"
   ]
  },
  {
   "cell_type": "code",
   "execution_count": 257,
   "id": "18f14ecf-294d-4e44-a558-456829039d77",
   "metadata": {},
   "outputs": [],
   "source": [
    "df['Model'] = df['model'].fillna('None').astype(str) + ', ' + df['brand'].fillna('None').astype(str)"
   ]
  },
  {
   "cell_type": "markdown",
   "id": "ee48cfd6-f2c9-46e5-8b57-e749241f3273",
   "metadata": {},
   "source": [
    "### In price column"
   ]
  },
  {
   "cell_type": "markdown",
   "id": "b7fa2a67-9404-4eaa-b7e7-d089f768329a",
   "metadata": {},
   "source": [
    "We need to remove the '$' from price column, and convert it in numerical values."
   ]
  },
  {
   "cell_type": "code",
   "execution_count": 258,
   "id": "8c71cca5-9983-402f-8d96-93a7463d8d85",
   "metadata": {},
   "outputs": [],
   "source": [
    "def extract_price(x):\n",
    "    try:\n",
    "        return int(str(x).lstrip('$').replace(',',''))\n",
    "    except:\n",
    "        pass\n",
    "df['price'] = df['price'].apply(extract_price)"
   ]
  },
  {
   "cell_type": "code",
   "execution_count": 259,
   "id": "a3c86117-7f71-49b6-bd93-bc88d4cc08ed",
   "metadata": {},
   "outputs": [],
   "source": [
    "df = df[df['price']>0]"
   ]
  },
  {
   "cell_type": "code",
   "execution_count": 260,
   "id": "60aa4bea-5970-4e58-9882-672ea0cdd21e",
   "metadata": {},
   "outputs": [],
   "source": [
    "df['log10_price'] = df['price'].apply(lambda x: np.log10(x))"
   ]
  },
  {
   "cell_type": "markdown",
   "id": "5b9ebf8d-b04e-4211-a74f-24f6fd4d30bc",
   "metadata": {},
   "source": [
    "### In size column"
   ]
  },
  {
   "cell_type": "code",
   "execution_count": 261,
   "id": "e9669e21-0da6-44a2-b426-3ec0e0e78687",
   "metadata": {},
   "outputs": [],
   "source": [
    "df['size'] = df['size'].apply(lambda x: str(x).replace('Approximate ', '').replace('weight ', '').replace(': ', '').replace('total ', '').replace('product ', '').split()[0].rstrip('mm'))\n",
    "def group_size(x):\n",
    "    try:\n",
    "        return str(round(float(x)))\n",
    "    except:\n",
    "        return 'None'\n",
    "df['size'] = df['size'].apply(group_size)"
   ]
  },
  {
   "cell_type": "markdown",
   "id": "68e7269d-b991-401f-9f92-afa712c6d81d",
   "metadata": {},
   "source": [
    "### In yop column"
   ]
  },
  {
   "cell_type": "markdown",
   "id": "44580ead-7469-419d-9629-fa3dabfea197",
   "metadata": {},
   "source": [
    "Some years contain 'Approximation', which has to be removed."
   ]
  },
  {
   "cell_type": "code",
   "execution_count": 262,
   "id": "2ec521c4-5454-4419-ae8c-837c4be24db4",
   "metadata": {},
   "outputs": [],
   "source": [
    "df['yop'] = df['yop'].str.replace('(Approximation)', '')"
   ]
  },
  {
   "cell_type": "code",
   "execution_count": 263,
   "id": "2301c137-b515-4c3c-b4ab-aec3e13d4445",
   "metadata": {},
   "outputs": [],
   "source": [
    "df=df[df['yop']!='Unknown']"
   ]
  },
  {
   "cell_type": "code",
   "execution_count": 264,
   "id": "91c79a5a-a7b3-46bd-87c3-0d104b24c485",
   "metadata": {},
   "outputs": [],
   "source": [
    "def convertir_derniere_valeur_en_float(chaine):\n",
    "    if isinstance(chaine, float):\n",
    "        return chaine\n",
    "    else:\n",
    "        valeurs = chaine.split(', ')\n",
    "        derniere_valeur = valeurs[-1]\n",
    "        return float(derniere_valeur)\n",
    "\n",
    "df['yop'] = df['yop'].apply(convertir_derniere_valeur_en_float)"
   ]
  },
  {
   "cell_type": "code",
   "execution_count": 265,
   "id": "c997d57e-9db3-4930-9b46-3b90ec693a88",
   "metadata": {},
   "outputs": [],
   "source": [
    "df['yop'] = df['yop'].astype('float')"
   ]
  },
  {
   "cell_type": "markdown",
   "id": "4d66ec7b-3ee7-44f7-ba2a-95b532368387",
   "metadata": {},
   "source": [
    "### Instead of year, let's take the \"age\" of the product"
   ]
  },
  {
   "cell_type": "code",
   "execution_count": 266,
   "id": "fcbb8831-57be-4ab6-95e7-40615c3607f4",
   "metadata": {},
   "outputs": [
    {
     "data": {
      "text/plain": [
       "array([2019., 2012., 2022., 2018., 2016., 2015., 2014., 2021., 2017.,\n",
       "       2005., 2006., 2023., 2002., 2004., 1994., 2020., 2013., 2007.,\n",
       "       2008., 1929., 2011., 2010., 1977., 2003., 1999., 1960., 1990.,\n",
       "       1980., 2009., 1976., 2000., 1989., 1982., 1975., 1970., 1995.,\n",
       "       1998., 1996., 1979., 1986., 1950., 1967., 1997., 1981., 2001.,\n",
       "       1955., 1991., 1992., 1983., 1985., 1984., 1993., 1988., 1978.,\n",
       "       1987., 1971., 1969., 1972., 1974., 1973., 1962., 1965., 1968.,\n",
       "       1948., 1961., 1952., 1956., 1886., 1920., 1958., 1945., 1941.,\n",
       "       1966., 1910., 1905., 1940., 1928., 1957., 1964., 1884., 1959.,\n",
       "       1963., 1946., 1947., 1944., 1953., 1951., 1954., 1949., 1750.,\n",
       "       1930., 1942., 1741., 1935., 1924., 1899., 1881., 1900., 1921.,\n",
       "       1915., 1922., 1908., 1937., 1890., 1898., 1911., 1912., 1943.,\n",
       "       1927., 1894., 1916., 1906., 1914., 1925., 1936., 1907., 1917.,\n",
       "       1892., 1938., 1923., 1903., 1931., 1926., 1913., 1885., 1939.,\n",
       "       1888., 1933., 1934., 1690., 1878., 1870., 1919., 1875., 1901.,\n",
       "       1893., 1889., 1904., 1918., 1909., 1932., 1852., 1694., 1790.,\n",
       "       1896., 1880., 1847., 2024., 1850., 1902., 1887., 1891., 1846.,\n",
       "       1845., 1867., 1883., 1868., 1848., 1895., 1601., 1559., 1897.,\n",
       "       1876., 1879., 1871., 1882., 1872., 1800., 1650.])"
      ]
     },
     "execution_count": 266,
     "metadata": {},
     "output_type": "execute_result"
    }
   ],
   "source": [
    "df['yop'].unique()"
   ]
  },
  {
   "cell_type": "code",
   "execution_count": 267,
   "id": "b79f187a-5d5b-4668-a9bf-1d7fbcfd7358",
   "metadata": {},
   "outputs": [],
   "source": [
    "df['Age']=2024-df['yop']"
   ]
  },
  {
   "cell_type": "code",
   "execution_count": 268,
   "id": "329709eb-dd0a-4fbe-a4ac-1d99fbda3d1d",
   "metadata": {},
   "outputs": [
    {
     "data": {
      "text/html": [
       "<div>\n",
       "<style scoped>\n",
       "    .dataframe tbody tr th:only-of-type {\n",
       "        vertical-align: middle;\n",
       "    }\n",
       "\n",
       "    .dataframe tbody tr th {\n",
       "        vertical-align: top;\n",
       "    }\n",
       "\n",
       "    .dataframe thead th {\n",
       "        text-align: right;\n",
       "    }\n",
       "</style>\n",
       "<table border=\"1\" class=\"dataframe\">\n",
       "  <thead>\n",
       "    <tr style=\"text-align: right;\">\n",
       "      <th></th>\n",
       "      <th>name</th>\n",
       "      <th>price</th>\n",
       "      <th>brand</th>\n",
       "      <th>model</th>\n",
       "      <th>ref</th>\n",
       "      <th>mvmt</th>\n",
       "      <th>casem</th>\n",
       "      <th>bracem</th>\n",
       "      <th>yop</th>\n",
       "      <th>cond</th>\n",
       "      <th>sex</th>\n",
       "      <th>size</th>\n",
       "      <th>condition</th>\n",
       "      <th>Model</th>\n",
       "      <th>log10_price</th>\n",
       "      <th>Age</th>\n",
       "    </tr>\n",
       "  </thead>\n",
       "  <tbody>\n",
       "    <tr>\n",
       "      <th>0</th>\n",
       "      <td>Audemars Piguet Royal Oak Offshore Chronograph...</td>\n",
       "      <td>43500.0</td>\n",
       "      <td>Audemars Piguet</td>\n",
       "      <td>Royal Oak Offshore Chronograph</td>\n",
       "      <td>26237ST.OO.1000ST.01</td>\n",
       "      <td>NaN</td>\n",
       "      <td>NaN</td>\n",
       "      <td>NaN</td>\n",
       "      <td>2019.0</td>\n",
       "      <td>Unworn</td>\n",
       "      <td>Men's watch/Unisex</td>\n",
       "      <td>42</td>\n",
       "      <td>NaN</td>\n",
       "      <td>Royal Oak Offshore Chronograph, Audemars Piguet</td>\n",
       "      <td>4.638489</td>\n",
       "      <td>5.0</td>\n",
       "    </tr>\n",
       "    <tr>\n",
       "      <th>1</th>\n",
       "      <td>Audemars Piguet Royal Oak Selfwinding\\n39mm Bl...</td>\n",
       "      <td>71500.0</td>\n",
       "      <td>Audemars Piguet</td>\n",
       "      <td>Royal Oak Selfwinding</td>\n",
       "      <td>15300ST.OO.1220ST.02</td>\n",
       "      <td>NaN</td>\n",
       "      <td>NaN</td>\n",
       "      <td>NaN</td>\n",
       "      <td>2012.0</td>\n",
       "      <td>Very good</td>\n",
       "      <td>Men's watch/Unisex</td>\n",
       "      <td>39</td>\n",
       "      <td>NaN</td>\n",
       "      <td>Royal Oak Selfwinding, Audemars Piguet</td>\n",
       "      <td>4.854306</td>\n",
       "      <td>12.0</td>\n",
       "    </tr>\n",
       "    <tr>\n",
       "      <th>3</th>\n",
       "      <td>Audemars Piguet Royal Oak Chronograph\\nSelfwin...</td>\n",
       "      <td>108000.0</td>\n",
       "      <td>Audemars Piguet</td>\n",
       "      <td>Royal Oak Chronograph</td>\n",
       "      <td>26715ST.OO.1356ST.01</td>\n",
       "      <td>Automatic</td>\n",
       "      <td>Steel</td>\n",
       "      <td>Steel</td>\n",
       "      <td>2022.0</td>\n",
       "      <td>New</td>\n",
       "      <td>Men's watch/Unisex</td>\n",
       "      <td>38</td>\n",
       "      <td>NaN</td>\n",
       "      <td>Royal Oak Chronograph, Audemars Piguet</td>\n",
       "      <td>5.033424</td>\n",
       "      <td>2.0</td>\n",
       "    </tr>\n",
       "    <tr>\n",
       "      <th>5</th>\n",
       "      <td>Audemars Piguet Royal Oak Offshore Diver\\n2018...</td>\n",
       "      <td>41000.0</td>\n",
       "      <td>Audemars Piguet</td>\n",
       "      <td>Royal Oak Offshore Diver</td>\n",
       "      <td>15710ST.OO.A051CA.01</td>\n",
       "      <td>Automatic</td>\n",
       "      <td>Steel</td>\n",
       "      <td>Rubber</td>\n",
       "      <td>2018.0</td>\n",
       "      <td>Unworn</td>\n",
       "      <td>Men's watch/Unisex</td>\n",
       "      <td>42</td>\n",
       "      <td>NaN</td>\n",
       "      <td>Royal Oak Offshore Diver, Audemars Piguet</td>\n",
       "      <td>4.612784</td>\n",
       "      <td>6.0</td>\n",
       "    </tr>\n",
       "    <tr>\n",
       "      <th>6</th>\n",
       "      <td>Audemars Piguet Royal Oak Offshore Diver Chron...</td>\n",
       "      <td>43500.0</td>\n",
       "      <td>Audemars Piguet</td>\n",
       "      <td>Royal Oak Offshore Diver Chronograph</td>\n",
       "      <td>26703ST.OO.A051CA.01</td>\n",
       "      <td>Automatic</td>\n",
       "      <td>Steel</td>\n",
       "      <td>Rubber</td>\n",
       "      <td>2016.0</td>\n",
       "      <td>Very good</td>\n",
       "      <td>Men's watch/Unisex</td>\n",
       "      <td>42</td>\n",
       "      <td>NaN</td>\n",
       "      <td>Royal Oak Offshore Diver Chronograph, Audemars...</td>\n",
       "      <td>4.638489</td>\n",
       "      <td>8.0</td>\n",
       "    </tr>\n",
       "  </tbody>\n",
       "</table>\n",
       "</div>"
      ],
      "text/plain": [
       "                                                name     price  \\\n",
       "0  Audemars Piguet Royal Oak Offshore Chronograph...   43500.0   \n",
       "1  Audemars Piguet Royal Oak Selfwinding\\n39mm Bl...   71500.0   \n",
       "3  Audemars Piguet Royal Oak Chronograph\\nSelfwin...  108000.0   \n",
       "5  Audemars Piguet Royal Oak Offshore Diver\\n2018...   41000.0   \n",
       "6  Audemars Piguet Royal Oak Offshore Diver Chron...   43500.0   \n",
       "\n",
       "             brand                                 model  \\\n",
       "0  Audemars Piguet        Royal Oak Offshore Chronograph   \n",
       "1  Audemars Piguet                 Royal Oak Selfwinding   \n",
       "3  Audemars Piguet                 Royal Oak Chronograph   \n",
       "5  Audemars Piguet              Royal Oak Offshore Diver   \n",
       "6  Audemars Piguet  Royal Oak Offshore Diver Chronograph   \n",
       "\n",
       "                    ref       mvmt  casem  bracem     yop       cond  \\\n",
       "0  26237ST.OO.1000ST.01        NaN    NaN     NaN  2019.0     Unworn   \n",
       "1  15300ST.OO.1220ST.02        NaN    NaN     NaN  2012.0  Very good   \n",
       "3  26715ST.OO.1356ST.01  Automatic  Steel   Steel  2022.0        New   \n",
       "5  15710ST.OO.A051CA.01  Automatic  Steel  Rubber  2018.0     Unworn   \n",
       "6  26703ST.OO.A051CA.01  Automatic  Steel  Rubber  2016.0  Very good   \n",
       "\n",
       "                  sex size condition  \\\n",
       "0  Men's watch/Unisex   42       NaN   \n",
       "1  Men's watch/Unisex   39       NaN   \n",
       "3  Men's watch/Unisex   38       NaN   \n",
       "5  Men's watch/Unisex   42       NaN   \n",
       "6  Men's watch/Unisex   42       NaN   \n",
       "\n",
       "                                               Model  log10_price   Age  \n",
       "0    Royal Oak Offshore Chronograph, Audemars Piguet     4.638489   5.0  \n",
       "1             Royal Oak Selfwinding, Audemars Piguet     4.854306  12.0  \n",
       "3             Royal Oak Chronograph, Audemars Piguet     5.033424   2.0  \n",
       "5          Royal Oak Offshore Diver, Audemars Piguet     4.612784   6.0  \n",
       "6  Royal Oak Offshore Diver Chronograph, Audemars...     4.638489   8.0  "
      ]
     },
     "execution_count": 268,
     "metadata": {},
     "output_type": "execute_result"
    }
   ],
   "source": [
    "df.head()"
   ]
  },
  {
   "cell_type": "markdown",
   "id": "17e620fa-c301-4012-b165-d8e5413b7dc2",
   "metadata": {},
   "source": [
    "### Fill NaN in the mvmt column"
   ]
  },
  {
   "cell_type": "markdown",
   "id": "23492677-9bc5-429f-a3b0-204de78e4bc0",
   "metadata": {},
   "source": [
    "We need NaN values to be replaced by valid values in the column mvmt. We assume that a unique value of name corresponds to a unique product. In this case, the product features should always be the same. Therefore, we start by retrieving the names of products for which the column mvmt contains at least one NaN value."
   ]
  },
  {
   "cell_type": "code",
   "execution_count": 269,
   "id": "ef2051f1-a6ca-4bff-b79d-550f46f0eedb",
   "metadata": {},
   "outputs": [],
   "source": [
    "names=pd.DataFrame(df[df['mvmt'].isnull()]['name'])"
   ]
  },
  {
   "cell_type": "markdown",
   "id": "a8e6e450-4a8e-4b86-a7e9-1c0d85f3f19a",
   "metadata": {},
   "source": [
    "We will now isolate those rows containing a product name for which 'mvmt' contains at least one null value into a dataframe. We select two columns: the product name and the associated 'mvmt' value."
   ]
  },
  {
   "cell_type": "code",
   "execution_count": 270,
   "id": "67b37614-4321-40fb-b9eb-ad6aa6afb0da",
   "metadata": {},
   "outputs": [],
   "source": [
    "filtered_mvmt = df[df['name'].isin(names['name'])][['name','mvmt']]"
   ]
  },
  {
   "cell_type": "markdown",
   "id": "0cb1c50b-f7a8-415c-a3ed-4edf3571c5fa",
   "metadata": {},
   "source": [
    "We remove the rows where the 'mvmt' value is NaN. We only want valid values to match our dataframe later on."
   ]
  },
  {
   "cell_type": "code",
   "execution_count": 271,
   "id": "61d7e554-d85d-4ef5-9430-ac7ee13fff6e",
   "metadata": {},
   "outputs": [],
   "source": [
    "filtered_mvmt.dropna(subset=['mvmt'],inplace=True)"
   ]
  },
  {
   "cell_type": "markdown",
   "id": "e148c4f2-2b87-45a5-a065-fcc2cb6d2839",
   "metadata": {},
   "source": [
    "We create a new column in df. This new column provides the non-NaN values associated with each product name for which we have at least one NaN value associated in the 'mvmt' column."
   ]
  },
  {
   "cell_type": "code",
   "execution_count": 272,
   "id": "2f571a08-16bc-4ad2-a8d7-79db7d4e27af",
   "metadata": {},
   "outputs": [],
   "source": [
    "df = pd.merge(df, filtered_mvmt, on='name', how='inner')"
   ]
  },
  {
   "cell_type": "markdown",
   "id": "76131b4e-6ec5-40e5-bb71-0090fe705b74",
   "metadata": {},
   "source": [
    "We fill the NaN values of mvmt with the non-NaN values corresponding to the same name."
   ]
  },
  {
   "cell_type": "code",
   "execution_count": 273,
   "id": "f4b3ce24-46ff-4195-a374-b4a0b355685e",
   "metadata": {},
   "outputs": [],
   "source": [
    "df['mvmt_x']=df['mvmt_x'].fillna(df['mvmt_y'])"
   ]
  },
  {
   "cell_type": "markdown",
   "id": "804d322e-704b-4c40-95f0-5bcc82466101",
   "metadata": {},
   "source": [
    "### Fill NaN in the casem column"
   ]
  },
  {
   "cell_type": "code",
   "execution_count": 274,
   "id": "3bec7e29-27a3-4c09-aa54-48fbb5972e7e",
   "metadata": {},
   "outputs": [],
   "source": [
    "names=pd.DataFrame(df[df['casem'].isnull()]['name'])"
   ]
  },
  {
   "cell_type": "code",
   "execution_count": 275,
   "id": "cef3e16a-dedf-40fa-9fba-7113d1da387b",
   "metadata": {},
   "outputs": [],
   "source": [
    "filtered_casem = df[df['name'].isin(names['name'])][['name','casem']]"
   ]
  },
  {
   "cell_type": "code",
   "execution_count": 276,
   "id": "841fb361-d171-4ec2-af98-4c6ca97ef90b",
   "metadata": {},
   "outputs": [],
   "source": [
    "filtered_casem.dropna(subset=['casem'],inplace=True)"
   ]
  },
  {
   "cell_type": "code",
   "execution_count": 277,
   "id": "5d5fc6c8-7652-4244-b15d-291111965f99",
   "metadata": {},
   "outputs": [],
   "source": [
    "filtered_casem = filtered_casem.drop_duplicates()"
   ]
  },
  {
   "cell_type": "code",
   "execution_count": 278,
   "id": "81757d57-a5b2-46c6-b780-183f3a201d63",
   "metadata": {},
   "outputs": [],
   "source": [
    "df = pd.merge(df, filtered_casem, on='name', how='inner')"
   ]
  },
  {
   "cell_type": "code",
   "execution_count": 279,
   "id": "c5ed872a-ffdc-45f4-83c4-01978a4ccc23",
   "metadata": {},
   "outputs": [],
   "source": [
    "df['casem_x']=df['casem_x'].fillna(df['casem_y'])"
   ]
  },
  {
   "cell_type": "markdown",
   "id": "4c9385c3-40b6-4a25-b6b1-00b834bd13f2",
   "metadata": {},
   "source": [
    "### Fill NaN in the bracem column"
   ]
  },
  {
   "cell_type": "code",
   "execution_count": 280,
   "id": "23b9cd37-ad91-4364-9c69-cdb93a05f6a2",
   "metadata": {},
   "outputs": [],
   "source": [
    "names=pd.DataFrame(df[df['bracem'].isnull()]['name'])"
   ]
  },
  {
   "cell_type": "code",
   "execution_count": 281,
   "id": "9f0daa8e-b46c-466e-b98d-9b045b9748b9",
   "metadata": {},
   "outputs": [],
   "source": [
    "filtered_bracem = df[df['name'].isin(names['name'])][['name','bracem']]"
   ]
  },
  {
   "cell_type": "code",
   "execution_count": 282,
   "id": "6e043a6a-fafb-43ab-bc23-78de14feb599",
   "metadata": {},
   "outputs": [],
   "source": [
    "filtered_bracem.dropna(subset=['bracem'],inplace=True)"
   ]
  },
  {
   "cell_type": "code",
   "execution_count": 283,
   "id": "b58967e9-3105-411d-9182-9da66f60f3de",
   "metadata": {},
   "outputs": [],
   "source": [
    "filtered_bracem = filtered_bracem.drop_duplicates()"
   ]
  },
  {
   "cell_type": "code",
   "execution_count": 284,
   "id": "b2fef06f-e1ef-421d-87be-34cc2ac3a8fd",
   "metadata": {},
   "outputs": [],
   "source": [
    "df = pd.merge(df, filtered_bracem, on='name', how='inner')"
   ]
  },
  {
   "cell_type": "code",
   "execution_count": 285,
   "id": "1c96ad0c-64ed-42b7-88d6-f54d11606c5e",
   "metadata": {},
   "outputs": [],
   "source": [
    "df['bracem_x']=df['bracem_x'].fillna(df['bracem_y'])"
   ]
  },
  {
   "cell_type": "markdown",
   "id": "50c75380-8902-471e-bb3e-2ba399a90f65",
   "metadata": {},
   "source": [
    "### Removing unnecessary columns"
   ]
  },
  {
   "cell_type": "code",
   "execution_count": 286,
   "id": "730c7431-639e-4d39-b3f9-ab47f38654c2",
   "metadata": {},
   "outputs": [],
   "source": [
    "df = df.drop(columns=(['ref','condition','mvmt_y','casem_y','bracem_y']))"
   ]
  },
  {
   "cell_type": "code",
   "execution_count": 287,
   "id": "d510c1d8-40d7-4d77-b603-f335b8c4fa30",
   "metadata": {},
   "outputs": [],
   "source": [
    "df=df.rename(columns={'mvmt_x':'Movement','casem_x':'Material','bracem_x':'Strap Material'})"
   ]
  },
  {
   "cell_type": "code",
   "execution_count": 288,
   "id": "3349db60-d2d1-4841-8552-5bd28a568f07",
   "metadata": {},
   "outputs": [
    {
     "data": {
      "text/plain": [
       "array(['Steel', 'Titanium', 'Rose gold', 'Ceramic', 'White gold',\n",
       "       'Gold/Steel', 'Carbon', 'Yellow gold', 'Red gold', 'Platinum',\n",
       "       'Plastic', 'Bronze', 'Silver', 'Tantalum', 'Aluminum'],\n",
       "      dtype=object)"
      ]
     },
     "execution_count": 288,
     "metadata": {},
     "output_type": "execute_result"
    }
   ],
   "source": [
    "df['Material'].unique()"
   ]
  },
  {
   "cell_type": "markdown",
   "id": "b97ee3a5-1fd5-406c-8591-b4fa65113c26",
   "metadata": {},
   "source": [
    "### Estimated price per gram of material"
   ]
  },
  {
   "cell_type": "code",
   "execution_count": 289,
   "id": "157f462c-8b7a-4d87-92d4-b4e77f1e8c7c",
   "metadata": {},
   "outputs": [],
   "source": [
    "price_per_gram = {\n",
    "    'Steel': 0.05,\n",
    "    'Titanium': 0.50,\n",
    "    'Rose gold': 35,\n",
    "    'White gold': 40,\n",
    "    'Ceramic': 1,\n",
    "    'Yellow gold': 45,\n",
    "    'Gold/Steel': 2,\n",
    "    'Carbon': 0.20,\n",
    "    'Red gold': 40,\n",
    "    'Platinum': 50,\n",
    "    'Plastic': 0.01,\n",
    "    'Bronze': 0.05,\n",
    "    'Silver': 0.50,\n",
    "    'Tantalum': 500,\n",
    "    'Aluminum': 0.01\n",
    "}"
   ]
  },
  {
   "cell_type": "code",
   "execution_count": 290,
   "id": "67d89275-97eb-4b0e-8142-8fd15445782b",
   "metadata": {},
   "outputs": [],
   "source": [
    "df['Material']=df['Material'].map(price_per_gram)"
   ]
  },
  {
   "cell_type": "code",
   "execution_count": 291,
   "id": "dfdefbdb-c131-4b44-8d05-cea843c1cf08",
   "metadata": {},
   "outputs": [],
   "source": [
    "df=df.rename(columns={'Material':'Material Unit Price'})"
   ]
  },
  {
   "cell_type": "code",
   "execution_count": 292,
   "id": "0873cd10-bd38-4bcb-99e3-9bb112d10ffc",
   "metadata": {},
   "outputs": [],
   "source": [
    "df['Material Unit Price'] = df['Material Unit Price'].apply(lambda x: np.log10(x))"
   ]
  },
  {
   "cell_type": "markdown",
   "id": "e51a4723-b22d-4448-8349-7f12df38afc4",
   "metadata": {},
   "source": [
    "### Estimated price per gram of strap material"
   ]
  },
  {
   "cell_type": "code",
   "execution_count": 293,
   "id": "0dbc2a31-7056-4d37-9f29-5ea770131f43",
   "metadata": {},
   "outputs": [
    {
     "data": {
      "text/plain": [
       "array(['Steel', 'Rubber', 'Crocodile skin', 'Rose gold', 'Gold/Steel',\n",
       "       'Ceramic', 'Leather', 'Titanium', 'Yellow gold', 'White gold',\n",
       "       'Platinum', 'Textile', 'Red gold', 'Calf skin', 'Lizard skin',\n",
       "       'Silver', 'Satin', 'Snake skin', 'Ostrich skin', 'Plastic',\n",
       "       'Silicon'], dtype=object)"
      ]
     },
     "execution_count": 293,
     "metadata": {},
     "output_type": "execute_result"
    }
   ],
   "source": [
    "df['Strap Material'].unique()"
   ]
  },
  {
   "cell_type": "code",
   "execution_count": 294,
   "id": "b8e94d53-b4f8-4041-b3b8-00c78de75f7a",
   "metadata": {},
   "outputs": [],
   "source": [
    "price_per_gram_strap = {\n",
    "    'Steel': 0.05,\n",
    "    'Rubber': 0.01,\n",
    "    'Rose gold': 35,\n",
    "    'Crocodile skin': 500,\n",
    "    'White gold': 40,\n",
    "    'Ceramic': 1,\n",
    "    'Yellow gold': 45,\n",
    "    'Gold/Steel': 2,\n",
    "    'Titanium': 0.50,\n",
    "    'Leather': 0.10,\n",
    "    'Platinum': 50,\n",
    "    'Calf skin': 300,\n",
    "    'Textile': 0.20,\n",
    "    'Red gold': 40,\n",
    "    'Lizard skin': 250,\n",
    "    'Silver': 0.50,\n",
    "    'Satin': 5,\n",
    "    'Snake skin': 200,\n",
    "    'Ostrich skin': 400,\n",
    "    'Plastic': 0.01,\n",
    "    'Silicon': 0.05\n",
    "}"
   ]
  },
  {
   "cell_type": "code",
   "execution_count": 295,
   "id": "3b91da78-03e0-4610-b9bf-71a53651b8b7",
   "metadata": {},
   "outputs": [],
   "source": [
    "df['Strap Material']=df['Strap Material'].map(price_per_gram_strap)"
   ]
  },
  {
   "cell_type": "code",
   "execution_count": 296,
   "id": "87eeda59-7126-45ff-b087-690af342bd50",
   "metadata": {},
   "outputs": [],
   "source": [
    "df=df.rename(columns={'Strap Material':'Strap Material Unit Price'})"
   ]
  },
  {
   "cell_type": "code",
   "execution_count": 297,
   "id": "5d8e9c59-3b69-4807-975c-3a03cab7731d",
   "metadata": {},
   "outputs": [],
   "source": [
    "df['Strap Material Unit Price'] = df['Strap Material Unit Price'].apply(lambda x: np.log10(x))"
   ]
  },
  {
   "cell_type": "markdown",
   "id": "73dd90aa-8205-4eb3-bebf-b52a99fe3bcf",
   "metadata": {},
   "source": [
    "## Prepare df for the model"
   ]
  },
  {
   "cell_type": "markdown",
   "id": "67f5586e-2575-4db8-9524-947eaaae1cd2",
   "metadata": {},
   "source": [
    "### Drop duplicates"
   ]
  },
  {
   "cell_type": "code",
   "execution_count": 298,
   "id": "7c78a57f-e48f-4341-b298-dbf8e5d21fbe",
   "metadata": {},
   "outputs": [],
   "source": [
    "df = df.drop_duplicates()"
   ]
  },
  {
   "cell_type": "markdown",
   "id": "14fdc2df-d08b-448e-a879-61d2ce7a5704",
   "metadata": {},
   "source": [
    "### Drop NaN"
   ]
  },
  {
   "cell_type": "code",
   "execution_count": 299,
   "id": "c0032812-092e-4aa5-b9a2-3d5f8194b9e8",
   "metadata": {},
   "outputs": [],
   "source": [
    "df = df.dropna()"
   ]
  },
  {
   "cell_type": "markdown",
   "id": "11140f56-7e5f-4cbd-8642-2ee555ebf643",
   "metadata": {},
   "source": [
    "### Keep only the most significant columns"
   ]
  },
  {
   "cell_type": "code",
   "execution_count": 300,
   "id": "bf676708-78d4-4cd0-8d21-7fec2721b531",
   "metadata": {},
   "outputs": [
    {
     "data": {
      "text/html": [
       "<div>\n",
       "<style scoped>\n",
       "    .dataframe tbody tr th:only-of-type {\n",
       "        vertical-align: middle;\n",
       "    }\n",
       "\n",
       "    .dataframe tbody tr th {\n",
       "        vertical-align: top;\n",
       "    }\n",
       "\n",
       "    .dataframe thead th {\n",
       "        text-align: right;\n",
       "    }\n",
       "</style>\n",
       "<table border=\"1\" class=\"dataframe\">\n",
       "  <thead>\n",
       "    <tr style=\"text-align: right;\">\n",
       "      <th></th>\n",
       "      <th>name</th>\n",
       "      <th>price</th>\n",
       "      <th>brand</th>\n",
       "      <th>model</th>\n",
       "      <th>Movement</th>\n",
       "      <th>Material Unit Price</th>\n",
       "      <th>Strap Material Unit Price</th>\n",
       "      <th>yop</th>\n",
       "      <th>cond</th>\n",
       "      <th>sex</th>\n",
       "      <th>size</th>\n",
       "      <th>Model</th>\n",
       "      <th>log10_price</th>\n",
       "      <th>Age</th>\n",
       "    </tr>\n",
       "  </thead>\n",
       "  <tbody>\n",
       "    <tr>\n",
       "      <th>0</th>\n",
       "      <td>Audemars Piguet Royal Oak Chronograph\\nSelfwin...</td>\n",
       "      <td>108000.0</td>\n",
       "      <td>Audemars Piguet</td>\n",
       "      <td>Royal Oak Chronograph</td>\n",
       "      <td>Automatic</td>\n",
       "      <td>-1.30103</td>\n",
       "      <td>-1.30103</td>\n",
       "      <td>2022.0</td>\n",
       "      <td>New</td>\n",
       "      <td>Men's watch/Unisex</td>\n",
       "      <td>38</td>\n",
       "      <td>Royal Oak Chronograph, Audemars Piguet</td>\n",
       "      <td>5.033424</td>\n",
       "      <td>2.0</td>\n",
       "    </tr>\n",
       "    <tr>\n",
       "      <th>1</th>\n",
       "      <td>Audemars Piguet Royal Oak Offshore Chronograph...</td>\n",
       "      <td>37800.0</td>\n",
       "      <td>Audemars Piguet</td>\n",
       "      <td>Royal Oak Offshore Chronograph</td>\n",
       "      <td>Automatic</td>\n",
       "      <td>-0.30103</td>\n",
       "      <td>-2.00000</td>\n",
       "      <td>2019.0</td>\n",
       "      <td>Very good</td>\n",
       "      <td>Men's watch/Unisex</td>\n",
       "      <td>42</td>\n",
       "      <td>Royal Oak Offshore Chronograph, Audemars Piguet</td>\n",
       "      <td>4.577492</td>\n",
       "      <td>5.0</td>\n",
       "    </tr>\n",
       "    <tr>\n",
       "      <th>4</th>\n",
       "      <td>Audemars Piguet Royal Oak Dual Time\\n26120ST.O...</td>\n",
       "      <td>32182.0</td>\n",
       "      <td>Audemars Piguet</td>\n",
       "      <td>Royal Oak Dual Time</td>\n",
       "      <td>Automatic</td>\n",
       "      <td>-1.30103</td>\n",
       "      <td>-1.30103</td>\n",
       "      <td>2015.0</td>\n",
       "      <td>Good</td>\n",
       "      <td>Men's watch/Unisex</td>\n",
       "      <td>39</td>\n",
       "      <td>Royal Oak Dual Time, Audemars Piguet</td>\n",
       "      <td>4.507613</td>\n",
       "      <td>9.0</td>\n",
       "    </tr>\n",
       "    <tr>\n",
       "      <th>9</th>\n",
       "      <td>Audemars Piguet Royal Oak\\n15500ST.OO.1220ST.01</td>\n",
       "      <td>77156.0</td>\n",
       "      <td>Audemars Piguet</td>\n",
       "      <td>Royal Oak</td>\n",
       "      <td>Automatic</td>\n",
       "      <td>-1.30103</td>\n",
       "      <td>-1.30103</td>\n",
       "      <td>2021.0</td>\n",
       "      <td>Good</td>\n",
       "      <td>Men's watch/Unisex</td>\n",
       "      <td>41</td>\n",
       "      <td>Royal Oak, Audemars Piguet</td>\n",
       "      <td>4.887370</td>\n",
       "      <td>3.0</td>\n",
       "    </tr>\n",
       "    <tr>\n",
       "      <th>10</th>\n",
       "      <td>Audemars Piguet Royal Oak\\n15500ST.OO.1220ST.01</td>\n",
       "      <td>77156.0</td>\n",
       "      <td>Audemars Piguet</td>\n",
       "      <td>Royal Oak</td>\n",
       "      <td>Automatic</td>\n",
       "      <td>-1.30103</td>\n",
       "      <td>-2.00000</td>\n",
       "      <td>2021.0</td>\n",
       "      <td>Good</td>\n",
       "      <td>Men's watch/Unisex</td>\n",
       "      <td>41</td>\n",
       "      <td>Royal Oak, Audemars Piguet</td>\n",
       "      <td>4.887370</td>\n",
       "      <td>3.0</td>\n",
       "    </tr>\n",
       "  </tbody>\n",
       "</table>\n",
       "</div>"
      ],
      "text/plain": [
       "                                                 name     price  \\\n",
       "0   Audemars Piguet Royal Oak Chronograph\\nSelfwin...  108000.0   \n",
       "1   Audemars Piguet Royal Oak Offshore Chronograph...   37800.0   \n",
       "4   Audemars Piguet Royal Oak Dual Time\\n26120ST.O...   32182.0   \n",
       "9     Audemars Piguet Royal Oak\\n15500ST.OO.1220ST.01   77156.0   \n",
       "10    Audemars Piguet Royal Oak\\n15500ST.OO.1220ST.01   77156.0   \n",
       "\n",
       "              brand                           model   Movement  \\\n",
       "0   Audemars Piguet           Royal Oak Chronograph  Automatic   \n",
       "1   Audemars Piguet  Royal Oak Offshore Chronograph  Automatic   \n",
       "4   Audemars Piguet             Royal Oak Dual Time  Automatic   \n",
       "9   Audemars Piguet                       Royal Oak  Automatic   \n",
       "10  Audemars Piguet                       Royal Oak  Automatic   \n",
       "\n",
       "    Material Unit Price  Strap Material Unit Price     yop       cond  \\\n",
       "0              -1.30103                   -1.30103  2022.0        New   \n",
       "1              -0.30103                   -2.00000  2019.0  Very good   \n",
       "4              -1.30103                   -1.30103  2015.0       Good   \n",
       "9              -1.30103                   -1.30103  2021.0       Good   \n",
       "10             -1.30103                   -2.00000  2021.0       Good   \n",
       "\n",
       "                   sex size                                            Model  \\\n",
       "0   Men's watch/Unisex   38           Royal Oak Chronograph, Audemars Piguet   \n",
       "1   Men's watch/Unisex   42  Royal Oak Offshore Chronograph, Audemars Piguet   \n",
       "4   Men's watch/Unisex   39             Royal Oak Dual Time, Audemars Piguet   \n",
       "9   Men's watch/Unisex   41                       Royal Oak, Audemars Piguet   \n",
       "10  Men's watch/Unisex   41                       Royal Oak, Audemars Piguet   \n",
       "\n",
       "    log10_price  Age  \n",
       "0      5.033424  2.0  \n",
       "1      4.577492  5.0  \n",
       "4      4.507613  9.0  \n",
       "9      4.887370  3.0  \n",
       "10     4.887370  3.0  "
      ]
     },
     "execution_count": 300,
     "metadata": {},
     "output_type": "execute_result"
    }
   ],
   "source": [
    "df.head()"
   ]
  },
  {
   "cell_type": "code",
   "execution_count": 301,
   "id": "68fbc7cf-d82a-49d7-9b9d-4130cef0355f",
   "metadata": {},
   "outputs": [
    {
     "data": {
      "text/plain": [
       "Index(['name', 'price', 'brand', 'model', 'Movement', 'Material Unit Price',\n",
       "       'Strap Material Unit Price', 'yop', 'cond', 'sex', 'size', 'Model',\n",
       "       'log10_price', 'Age'],\n",
       "      dtype='object')"
      ]
     },
     "execution_count": 301,
     "metadata": {},
     "output_type": "execute_result"
    }
   ],
   "source": [
    "df.columns"
   ]
  },
  {
   "cell_type": "code",
   "execution_count": 303,
   "id": "359dd556-5ad9-47f6-86fb-f5f97799f028",
   "metadata": {},
   "outputs": [],
   "source": [
    "df=df[['Model','Age','sex','size','Material Unit Price','Strap Material Unit Price','Movement','cond','log10_price']]"
   ]
  },
  {
   "cell_type": "markdown",
   "id": "e8103471-3b63-4045-9a13-b4972ec65f84",
   "metadata": {},
   "source": [
    "### Log price becomes the new price"
   ]
  },
  {
   "cell_type": "code",
   "execution_count": 304,
   "id": "c7e8091f-1958-4395-8fd7-daa7dc3696ce",
   "metadata": {},
   "outputs": [],
   "source": [
    "df=df.rename(columns={'log10_price':'Price'})"
   ]
  },
  {
   "cell_type": "markdown",
   "id": "71ddc324-bff0-4ecb-9177-d4c50085352b",
   "metadata": {},
   "source": [
    "### Size becomes float"
   ]
  },
  {
   "cell_type": "code",
   "execution_count": 305,
   "id": "746f2fbf-5136-4c78-a5b2-a876a7817e25",
   "metadata": {},
   "outputs": [],
   "source": [
    "df=df[df['size']!='None']"
   ]
  },
  {
   "cell_type": "code",
   "execution_count": 306,
   "id": "23c180e6-b8f7-4d73-a955-a612a2cf3374",
   "metadata": {},
   "outputs": [],
   "source": [
    "df['size']=df['size'].astype('float')"
   ]
  },
  {
   "cell_type": "markdown",
   "id": "e9c09b8f-f68b-4c17-a171-72fb0b220510",
   "metadata": {},
   "source": [
    "### Convert string into categories"
   ]
  },
  {
   "cell_type": "code",
   "execution_count": 307,
   "id": "bb4a148c-b4b8-4d91-9f86-308d2789e8b9",
   "metadata": {},
   "outputs": [],
   "source": [
    "string = ['Model','sex','Movement','cond']"
   ]
  },
  {
   "cell_type": "code",
   "execution_count": 308,
   "id": "7e218feb-f098-4310-8563-c33cf2d71f63",
   "metadata": {},
   "outputs": [],
   "source": [
    "for col in df.columns:\n",
    "    if col in string:\n",
    "        encoder = LabelEncoder()\n",
    "        df[col] = encoder.fit_transform(df[col])"
   ]
  },
  {
   "cell_type": "markdown",
   "id": "6479d6de-f109-4e60-a84c-f81882781fd5",
   "metadata": {},
   "source": [
    "## Correlation matrix"
   ]
  },
  {
   "cell_type": "code",
   "execution_count": 309,
   "id": "03b3b6b4-356b-4d58-8343-36aed80519cb",
   "metadata": {},
   "outputs": [
    {
     "data": {
      "text/plain": [
       "Model                          int64\n",
       "Age                          float64\n",
       "sex                            int64\n",
       "size                         float64\n",
       "Material Unit Price          float64\n",
       "Strap Material Unit Price    float64\n",
       "Movement                       int64\n",
       "cond                           int64\n",
       "Price                        float64\n",
       "dtype: object"
      ]
     },
     "execution_count": 309,
     "metadata": {},
     "output_type": "execute_result"
    }
   ],
   "source": [
    "df.dtypes"
   ]
  },
  {
   "cell_type": "code",
   "execution_count": 310,
   "id": "8c2da69e-2fad-4f19-9c78-e1ef67c18136",
   "metadata": {},
   "outputs": [],
   "source": [
    "correlation_matrix = df.corr()"
   ]
  },
  {
   "cell_type": "code",
   "execution_count": 311,
   "id": "5143fcf9-8f8e-4823-a58d-a40783395b40",
   "metadata": {},
   "outputs": [
    {
     "data": {
      "text/html": [
       "<div>\n",
       "<style scoped>\n",
       "    .dataframe tbody tr th:only-of-type {\n",
       "        vertical-align: middle;\n",
       "    }\n",
       "\n",
       "    .dataframe tbody tr th {\n",
       "        vertical-align: top;\n",
       "    }\n",
       "\n",
       "    .dataframe thead th {\n",
       "        text-align: right;\n",
       "    }\n",
       "</style>\n",
       "<table border=\"1\" class=\"dataframe\">\n",
       "  <thead>\n",
       "    <tr style=\"text-align: right;\">\n",
       "      <th></th>\n",
       "      <th>Model</th>\n",
       "      <th>Age</th>\n",
       "      <th>sex</th>\n",
       "      <th>size</th>\n",
       "      <th>Material Unit Price</th>\n",
       "      <th>Strap Material Unit Price</th>\n",
       "      <th>Movement</th>\n",
       "      <th>cond</th>\n",
       "      <th>Price</th>\n",
       "    </tr>\n",
       "  </thead>\n",
       "  <tbody>\n",
       "    <tr>\n",
       "      <th>Model</th>\n",
       "      <td>1.000000</td>\n",
       "      <td>0.136202</td>\n",
       "      <td>-0.062993</td>\n",
       "      <td>0.002059</td>\n",
       "      <td>-0.024080</td>\n",
       "      <td>0.014123</td>\n",
       "      <td>0.033571</td>\n",
       "      <td>0.009603</td>\n",
       "      <td>0.104136</td>\n",
       "    </tr>\n",
       "    <tr>\n",
       "      <th>Age</th>\n",
       "      <td>0.136202</td>\n",
       "      <td>1.000000</td>\n",
       "      <td>-0.050233</td>\n",
       "      <td>-0.022838</td>\n",
       "      <td>-0.073323</td>\n",
       "      <td>-0.030913</td>\n",
       "      <td>0.124957</td>\n",
       "      <td>-0.014103</td>\n",
       "      <td>-0.158338</td>\n",
       "    </tr>\n",
       "    <tr>\n",
       "      <th>sex</th>\n",
       "      <td>-0.062993</td>\n",
       "      <td>-0.050233</td>\n",
       "      <td>1.000000</td>\n",
       "      <td>-0.177880</td>\n",
       "      <td>0.116650</td>\n",
       "      <td>0.107990</td>\n",
       "      <td>0.260290</td>\n",
       "      <td>-0.067017</td>\n",
       "      <td>-0.096773</td>\n",
       "    </tr>\n",
       "    <tr>\n",
       "      <th>size</th>\n",
       "      <td>0.002059</td>\n",
       "      <td>-0.022838</td>\n",
       "      <td>-0.177880</td>\n",
       "      <td>1.000000</td>\n",
       "      <td>-0.023765</td>\n",
       "      <td>-0.029727</td>\n",
       "      <td>-0.075119</td>\n",
       "      <td>0.004604</td>\n",
       "      <td>0.044199</td>\n",
       "    </tr>\n",
       "    <tr>\n",
       "      <th>Material Unit Price</th>\n",
       "      <td>-0.024080</td>\n",
       "      <td>-0.073323</td>\n",
       "      <td>0.116650</td>\n",
       "      <td>-0.023765</td>\n",
       "      <td>1.000000</td>\n",
       "      <td>0.276595</td>\n",
       "      <td>0.000974</td>\n",
       "      <td>0.004795</td>\n",
       "      <td>0.338418</td>\n",
       "    </tr>\n",
       "    <tr>\n",
       "      <th>Strap Material Unit Price</th>\n",
       "      <td>0.014123</td>\n",
       "      <td>-0.030913</td>\n",
       "      <td>0.107990</td>\n",
       "      <td>-0.029727</td>\n",
       "      <td>0.276595</td>\n",
       "      <td>1.000000</td>\n",
       "      <td>-0.008929</td>\n",
       "      <td>0.007377</td>\n",
       "      <td>0.134893</td>\n",
       "    </tr>\n",
       "    <tr>\n",
       "      <th>Movement</th>\n",
       "      <td>0.033571</td>\n",
       "      <td>0.124957</td>\n",
       "      <td>0.260290</td>\n",
       "      <td>-0.075119</td>\n",
       "      <td>0.000974</td>\n",
       "      <td>-0.008929</td>\n",
       "      <td>1.000000</td>\n",
       "      <td>-0.021207</td>\n",
       "      <td>-0.199516</td>\n",
       "    </tr>\n",
       "    <tr>\n",
       "      <th>cond</th>\n",
       "      <td>0.009603</td>\n",
       "      <td>-0.014103</td>\n",
       "      <td>-0.067017</td>\n",
       "      <td>0.004604</td>\n",
       "      <td>0.004795</td>\n",
       "      <td>0.007377</td>\n",
       "      <td>-0.021207</td>\n",
       "      <td>1.000000</td>\n",
       "      <td>0.086198</td>\n",
       "    </tr>\n",
       "    <tr>\n",
       "      <th>Price</th>\n",
       "      <td>0.104136</td>\n",
       "      <td>-0.158338</td>\n",
       "      <td>-0.096773</td>\n",
       "      <td>0.044199</td>\n",
       "      <td>0.338418</td>\n",
       "      <td>0.134893</td>\n",
       "      <td>-0.199516</td>\n",
       "      <td>0.086198</td>\n",
       "      <td>1.000000</td>\n",
       "    </tr>\n",
       "  </tbody>\n",
       "</table>\n",
       "</div>"
      ],
      "text/plain": [
       "                              Model       Age       sex      size  \\\n",
       "Model                      1.000000  0.136202 -0.062993  0.002059   \n",
       "Age                        0.136202  1.000000 -0.050233 -0.022838   \n",
       "sex                       -0.062993 -0.050233  1.000000 -0.177880   \n",
       "size                       0.002059 -0.022838 -0.177880  1.000000   \n",
       "Material Unit Price       -0.024080 -0.073323  0.116650 -0.023765   \n",
       "Strap Material Unit Price  0.014123 -0.030913  0.107990 -0.029727   \n",
       "Movement                   0.033571  0.124957  0.260290 -0.075119   \n",
       "cond                       0.009603 -0.014103 -0.067017  0.004604   \n",
       "Price                      0.104136 -0.158338 -0.096773  0.044199   \n",
       "\n",
       "                           Material Unit Price  Strap Material Unit Price  \\\n",
       "Model                                -0.024080                   0.014123   \n",
       "Age                                  -0.073323                  -0.030913   \n",
       "sex                                   0.116650                   0.107990   \n",
       "size                                 -0.023765                  -0.029727   \n",
       "Material Unit Price                   1.000000                   0.276595   \n",
       "Strap Material Unit Price             0.276595                   1.000000   \n",
       "Movement                              0.000974                  -0.008929   \n",
       "cond                                  0.004795                   0.007377   \n",
       "Price                                 0.338418                   0.134893   \n",
       "\n",
       "                           Movement      cond     Price  \n",
       "Model                      0.033571  0.009603  0.104136  \n",
       "Age                        0.124957 -0.014103 -0.158338  \n",
       "sex                        0.260290 -0.067017 -0.096773  \n",
       "size                      -0.075119  0.004604  0.044199  \n",
       "Material Unit Price        0.000974  0.004795  0.338418  \n",
       "Strap Material Unit Price -0.008929  0.007377  0.134893  \n",
       "Movement                   1.000000 -0.021207 -0.199516  \n",
       "cond                      -0.021207  1.000000  0.086198  \n",
       "Price                     -0.199516  0.086198  1.000000  "
      ]
     },
     "execution_count": 311,
     "metadata": {},
     "output_type": "execute_result"
    }
   ],
   "source": [
    "correlation_matrix"
   ]
  },
  {
   "cell_type": "code",
   "execution_count": 75,
   "id": "8d3db727-b3e3-444e-b029-1ada44b488cb",
   "metadata": {},
   "outputs": [
    {
     "data": {
      "text/plain": [
       "<Axes: >"
      ]
     },
     "execution_count": 75,
     "metadata": {},
     "output_type": "execute_result"
    },
    {
     "data": {
      "image/png": "[encoded data removed]",
      "text/plain": [
       "<Figure size 640x480 with 2 Axes>"
      ]
     },
     "metadata": {},
     "output_type": "display_data"
    }
   ],
   "source": [
    "sns.heatmap(correlation_matrix)"
   ]
  },
  {
   "cell_type": "code",
   "execution_count": 312,
   "id": "e7fb22e7-7c15-4324-93b3-d31cec2a33d4",
   "metadata": {},
   "outputs": [],
   "source": [
    "df.to_csv('df.csv')"
   ]
  },
  {
   "cell_type": "code",
   "execution_count": null,
   "id": "8e786ea2-0bbb-4b80-9c23-09918af9cdcd",
   "metadata": {},
   "outputs": [],
   "source": []
  }
 ],
 "metadata": {
  "kernelspec": {
   "display_name": "Python 3 (ipykernel)",
   "language": "python",
   "name": "python3"
  },
  "language_info": {
   "codemirror_mode": {
    "name": "ipython",
    "version": 3
   },
   "file_extension": ".py",
   "mimetype": "text/x-python",
   "name": "python",
   "nbconvert_exporter": "python",
   "pygments_lexer": "ipython3",
   "version": "3.12.4"
  }
 },
 "nbformat": 4,
 "nbformat_minor": 5
}
